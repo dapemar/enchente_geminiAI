{
  "nbformat": 4,
  "nbformat_minor": 0,
  "metadata": {
    "colab": {
      "provenance": [],
      "authorship_tag": "ABX9TyNSYNtqShtd7UKDSzKhaH2R",
      "include_colab_link": true
    },
    "kernelspec": {
      "name": "python3",
      "display_name": "Python 3"
    },
    "language_info": {
      "name": "python"
    }
  },
  "cells": [
    {
      "cell_type": "markdown",
      "metadata": {
        "id": "view-in-github",
        "colab_type": "text"
      },
      "source": [
        "<a href=\"https://colab.research.google.com/github/dapemar/enchente_geminiAI/blob/main/enchente_geminiAI.ipynb\" target=\"_parent\"><img src=\"https://colab.research.google.com/assets/colab-badge.svg\" alt=\"Open In Colab\"/></a>"
      ]
    },
    {
      "cell_type": "code",
      "execution_count": 1,
      "metadata": {
        "colab": {
          "base_uri": "https://localhost:8080/"
        },
        "id": "RbAjSYO9P_mU",
        "outputId": "c9a5000e-76d6-414b-a055-d3dabc53f637"
      },
      "outputs": [
        {
          "output_type": "stream",
          "name": "stdout",
          "text": [
            "Mounted at /content/drive\n"
          ]
        }
      ],
      "source": [
        "from google.colab import drive\n",
        "drive.mount('/content/drive')\n",
        "import google.generativeai as genai\n",
        "import requests\n",
        "#!pip install google-generativeai requests\n",
        "caminho_api_key = '/content/drive/MyDrive/2024_AluraGeminiAI/github/api_key/api_key.txt'\n",
        "#genai.configure(api_key=)"
      ]
    },
    {
      "cell_type": "code",
      "source": [
        "caminho_api_key"
      ],
      "metadata": {
        "colab": {
          "base_uri": "https://localhost:8080/",
          "height": 35
        },
        "id": "qGo7P9V2XJtK",
        "outputId": "dc3a4758-d428-4fcf-a677-47c8886d98f1"
      },
      "execution_count": 3,
      "outputs": [
        {
          "output_type": "execute_result",
          "data": {
            "text/plain": [
              "'/content/drive/MyDrive/2024_AluraGeminiAI/github/api_key/api_key.txt'"
            ],
            "application/vnd.google.colaboratory.intrinsic+json": {
              "type": "string"
            }
          },
          "metadata": {},
          "execution_count": 3
        }
      ]
    },
    {
      "cell_type": "code",
      "source": [
        "with open(caminho_api_key, 'r') as f:\n",
        "    api_key = f.read().strip()"
      ],
      "metadata": {
        "id": "ffr9pDYMXewq"
      },
      "execution_count": 4,
      "outputs": []
    },
    {
      "cell_type": "code",
      "source": [
        "genai.configure(api_key=api_key)"
      ],
      "metadata": {
        "id": "4Hm2XG2mXkBb"
      },
      "execution_count": 5,
      "outputs": []
    }
  ]
}